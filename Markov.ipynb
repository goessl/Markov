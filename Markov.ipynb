{
 "cells": [
  {
   "cell_type": "markdown",
   "id": "5bd6e4fa-9227-4a51-904a-a801f3f850a9",
   "metadata": {},
   "source": [
    "# Markov\n",
    "\n",
    "This is a Markov chain Python implementation. The main objective was simplicity instead of performance. This was accomplished by using adjacency lists rather than a transition matrix. The implementation is done with two classes, the WeightMap class to handle the weights and the MarkovNode to build the actual graph.\n",
    "\n",
    "## WeightMap\n",
    "\n",
    "This class only holds some keys with weights and enables random weighted choices."
   ]
  },
  {
   "cell_type": "code",
   "execution_count": 1,
   "id": "9e5eefa8-10ef-47a5-849f-e3b7a5476cf6",
   "metadata": {},
   "outputs": [],
   "source": [
    "from collections import defaultdict\n",
    "from random import choices\n",
    "\n",
    "class WeightMap(defaultdict):\n",
    "    '''Keys with respective weights. Weight type must be acceptable for random.choices.'''\n",
    "    \n",
    "    def __init__(self, *args):\n",
    "        #initialisation possibilities: https://docs.python.org/3/library/stdtypes.html#dict\n",
    "        #not included children have zero probability to be drawn\n",
    "        super().__init__(int, *args)\n",
    "    \n",
    "    def __call__(self):\n",
    "        '''Returns a random weighted key.'''\n",
    "        return choices(list(self.keys()), list(self.values()))[0]"
   ]
  },
  {
   "cell_type": "code",
   "execution_count": 2,
   "id": "66bb8e4f-c988-423e-a196-20355a5e8e99",
   "metadata": {},
   "outputs": [
    {
     "data": {
      "text/plain": [
       "(2.0, 1.974685427016093)"
      ]
     },
     "execution_count": 2,
     "metadata": {},
     "output_type": "execute_result"
    }
   ],
   "source": [
    "#basic usage\n",
    "from collections import Counter\n",
    "\n",
    "wmp = WeightMap({'a':1, 'b':2})\n",
    "\n",
    "cnt = Counter()\n",
    "for _ in range(100000):\n",
    "    cnt.update(wmp())\n",
    "wmp['b']/wmp['a'], cnt['b']/cnt['a'] #should be nearly equal"
   ]
  },
  {
   "cell_type": "markdown",
   "id": "29a7c6c5-fed1-40e8-8815-58d4aff29593",
   "metadata": {},
   "source": [
    "## MarkovNode\n",
    "\n",
    "The WeightMap handles the outgoing connections of a node; MarkovNode then extends it to a complete node of the graph (WeightMap + data of node/state + utilities for training and propagation through graph)."
   ]
  },
  {
   "cell_type": "code",
   "execution_count": 3,
   "id": "05a46886-0952-48b4-81a1-1f0e8aee092d",
   "metadata": {},
   "outputs": [],
   "source": [
    "class MarkovNode(WeightMap):\n",
    "    '''Node to construct a Markov chain out of.'''\n",
    "    \n",
    "    def __init__(self, data):\n",
    "        super().__init__()\n",
    "        self.data = data\n",
    "    \n",
    "    def __hash__(self):\n",
    "        return hash(self.data)\n",
    "    \n",
    "    def find(nodes, data, add=False):\n",
    "        '''Returns the first node from the nodes with the given data. Automatic addition to the list is possible.'''\n",
    "        #find node by data attribute in node list, https://stackoverflow.com/a/7125547\n",
    "        node = next((node for node in nodes if node.data==data), None)\n",
    "        \n",
    "        #if it doesn't exist yet, create and add it or scream\n",
    "        if node == None:\n",
    "            if not add:\n",
    "                raise KeyError\n",
    "            node = MarkovNode(data)\n",
    "            nodes += [node]\n",
    "        \n",
    "        return node\n",
    "    \n",
    "    def inc(self, nodes, childData, increment=1):\n",
    "        '''Increments the count for the child node with the given data. If it doesn't exist yet, it is created and added.'''\n",
    "        childNode = MarkovNode.find(nodes, childData, True)\n",
    "        self[childNode] += increment\n",
    "        return childNode\n",
    "    \n",
    "    def __repr__(self):\n",
    "        return '{' + repr(self.data) + '| ' + ', '.join([repr(key.data) + ':' + repr(self[key]) for key in self.keys()]) + '}'\n",
    "    \n",
    "    #propagates through the graph, from node to node, and returns their data\n",
    "    #(generator is more compact than full iterator)\n",
    "    def __iter__(self):\n",
    "        node = self\n",
    "        while node: #continue up to node without children\n",
    "            yield node.data\n",
    "            node = node()\n",
    "        yield node.data #don't forget last node"
   ]
  },
  {
   "cell_type": "code",
   "execution_count": 4,
   "id": "b435deae-45a4-4b22-b438-a0679baa34bf",
   "metadata": {},
   "outputs": [
    {
     "data": {
      "text/plain": [
       "[{'a'| 'b':1}, {'b'| }]"
      ]
     },
     "execution_count": 4,
     "metadata": {},
     "output_type": "execute_result"
    }
   ],
   "source": [
    "#basic usage\n",
    "nodes = [MarkovNode('a'), MarkovNode('b')]\n",
    "nodes[0].inc(nodes, 'b')\n",
    "nodes"
   ]
  },
  {
   "cell_type": "markdown",
   "id": "5b9943ef-7938-496c-9722-b8f84b23816b",
   "metadata": {},
   "source": [
    "## Tests\n",
    "\n",
    "Construct a Markov chain from a training string, output it and generate an output. As start a node with an empty string is use;, as end a node with a line break (and no children) is used."
   ]
  },
  {
   "cell_type": "code",
   "execution_count": 5,
   "id": "776aeb6a-894b-47f2-a9c8-8fd7ffe42b1f",
   "metadata": {},
   "outputs": [
    {
     "name": "stdout",
     "output_type": "stream",
     "text": [
      "[{''| 'a':1}, {'a'| 'b':14, 'a':3, '\\n':1}, {'b'| 'a':14, 'b':4}, {'\\n'| }]\n",
      "abbbaababababaababababbabbabababa\n"
     ]
    }
   ],
   "source": [
    "training = 'abababbbabababbbababaaaababababababa\\n'\n",
    "nodes = [MarkovNode('')]\n",
    "\n",
    "#training\n",
    "node = nodes[0]\n",
    "for c in training:\n",
    "    node = node.inc(nodes, c)\n",
    "\n",
    "#propagation\n",
    "print(nodes)\n",
    "for c in nodes[0]:\n",
    "    print(c, end='')"
   ]
  },
  {
   "cell_type": "markdown",
   "id": "94b9e2c5-570c-4097-9cb7-4a6e91fbd5a0",
   "metadata": {},
   "source": [
    "### Names, letter-wise\n",
    "\n",
    "Same as above but with names. Result will be nothing better than random letters."
   ]
  },
  {
   "cell_type": "code",
   "execution_count": 6,
   "id": "2354ac73-697f-4cb5-9477-b948f0960bbd",
   "metadata": {},
   "outputs": [
    {
     "name": "stdout",
     "output_type": "stream",
     "text": [
      "CEYL\n",
      "DICIT\n",
      "MMADA\n",
      "JOEBOUS\n",
      "RITHA\n",
      "N\n",
      "JOTARIA\n",
      "TE\n",
      "MAILIELLBEKINA\n",
      "JATTRA\n"
     ]
    }
   ],
   "source": [
    "from requests import get\n",
    "\n",
    "#get '\\n' terminated names\n",
    "names = [name+'\\n' for name in get('https://raw.githubusercontent.com/dominictarr/random-name/master/first-names.txt').text.split('\\r\\n')]\n",
    "\n",
    "#training\n",
    "nodes = [MarkovNode('')]\n",
    "for name in names:\n",
    "    node = nodes[0]               #start of name\n",
    "    for c in name.upper():        #letters\n",
    "        node = node.inc(nodes, c)\n",
    "#print(*nodes, sep='\\n\\n', end='\\n\\n')\n",
    "\n",
    "#propagation\n",
    "for _ in range(10):\n",
    "    for c in nodes[0]:\n",
    "        print(c, end='')"
   ]
  },
  {
   "cell_type": "markdown",
   "id": "a369f6f7-a006-4ae2-84f4-76385797165d",
   "metadata": {},
   "source": [
    "### Names, grams\n",
    "\n",
    "Same as above, but with n-grams (n preceeding letters determine next single letter). Results will now sound like names.\n",
    "\n",
    "Start node will have n-letter-long strings as children, n-letter-long strings have single letters and the end node (`'\\n'`) as children, single letters and end node have no children."
   ]
  },
  {
   "cell_type": "code",
   "execution_count": 7,
   "id": "352d6566-1799-44ae-83a8-e67991659bee",
   "metadata": {},
   "outputs": [
    {
     "name": "stdout",
     "output_type": "stream",
     "text": [
      "MARYLIS\n",
      "BETH\n",
      "PEG\n",
      "WILE\n",
      "BERTINE\n",
      "MARGERIE-JEANORE\n",
      "DARISTY\n",
      "DOLORRILLA\n",
      "VIDANICA\n",
      "AILYNDA\n",
      "LYDA\n",
      "HALENE\n",
      "SELIA\n",
      "CRISTEFANICAELA\n",
      "HELLY-ANNE\n",
      "FREDIKTA\n",
      "RHETTE\n",
      "JANE\n",
      "NISSALLIA\n",
      "JOANNA\n",
      "GLOREETA\n",
      "MARINDA\n",
      "MURINA\n",
      "CORDELIA\n",
      "SELANDRA\n",
      "KELLA\n",
      "AMITZI\n",
      "THOMASIAHALISSIE\n",
      "ANGILBERTINA\n",
      "REN\n",
      "CLARILYSA\n",
      "ZSA\n",
      "SANDA\n",
      "GUELYNNA\n",
      "DAFFIE\n",
      "GLYN\n",
      "KARETH\n",
      "JOELYNDEE\n",
      "TAMMI\n",
      "SHELENNYETTE\n",
      "LAURORY\n",
      "HARLOT\n",
      "YOVONNA\n",
      "BERNY\n",
      "RAH\n",
      "GERTA\n",
      "DELLE\n",
      "ELINA\n",
      "BRITTA\n",
      "SILEANNA\n",
      "BELLE\n",
      "BILINNIS\n",
      "GILBERGETTA\n",
      "MADELLE\n",
      "BESSY\n",
      "SON\n",
      "CHLO\n",
      "BRANDRA\n",
      "ALLE\n",
      "CHERIANORRITA\n",
      "KRISA\n",
      "KATHRINA\n",
      "SIBETHERE\n",
      "MARTEN\n",
      "THE\n",
      "MAURETH\n",
      "CHANNA\n",
      "PAULIE\n",
      "CHANIQUINNYA\n",
      "MERIDGE\n",
      "KIT\n",
      "BRIT\n",
      "RONELLA\n",
      "ZUZANNETA\n",
      "MURIAN\n",
      "DEDIA\n",
      "SHA\n",
      "RANDEEE\n",
      "DONNI\n",
      "RORINE\n",
      "ROBIN\n",
      "EUGENE\n",
      "MUFI\n",
      "LUISAHELGE\n",
      "MARINE\n",
      "DELIZABELL\n",
      "MONIE\n",
      "LURALIARYROSEFA\n",
      "SUZY\n",
      "MARIELLE\n",
      "INGARNE\n",
      "MADDY\n",
      "FAWNEE\n",
      "KIPPY\n",
      "KAYLEY\n",
      "ILYSONJANI\n",
      "KAYLA\n",
      "SEA\n",
      "PEARTIE\n",
      "GRIEE\n"
     ]
    }
   ],
   "source": [
    "from more_itertools import sliding_window\n",
    "\n",
    "\n",
    "n = 3\n",
    "\n",
    "nodes = [MarkovNode('')]\n",
    "for name in names:\n",
    "    nodes[0].inc(nodes, name[:n].upper())  \n",
    "    for gramnletter in sliding_window(name.upper(), n+1):         #for all gram+letter windows in name\n",
    "        gram, letter = ''.join(gramnletter[:-1]), gramnletter[-1]\n",
    "        MarkovNode.find(nodes, gram, True).inc(nodes, letter)     #find node with gram and append letter node\n",
    "\n",
    "#print(*nodes, sep='\\n\\n', end='\\n\\n')\n",
    "\n",
    "for _ in range(100):\n",
    "    s = nodes[0]().data #starting gram\n",
    "    while s[-1] != '\\n':\n",
    "        s += MarkovNode.find(nodes, s[-n:])().data #find last gram and append letter\n",
    "    print(s, end='')"
   ]
  }
 ],
 "metadata": {
  "kernelspec": {
   "display_name": "Python 3 (ipykernel)",
   "language": "python",
   "name": "python3"
  },
  "language_info": {
   "codemirror_mode": {
    "name": "ipython",
    "version": 3
   },
   "file_extension": ".py",
   "mimetype": "text/x-python",
   "name": "python",
   "nbconvert_exporter": "python",
   "pygments_lexer": "ipython3",
   "version": "3.10.6"
  }
 },
 "nbformat": 4,
 "nbformat_minor": 5
}
